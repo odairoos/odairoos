{
  "nbformat": 4,
  "nbformat_minor": 0,
  "metadata": {
    "colab": {
      "name": "testes25042022.ipynb",
      "provenance": [],
      "authorship_tag": "ABX9TyMoHrAxv8XmMueW6PwIONGd",
      "include_colab_link": true
    },
    "kernelspec": {
      "name": "python3",
      "display_name": "Python 3"
    },
    "language_info": {
      "name": "python"
    }
  },
  "cells": [
    {
      "cell_type": "markdown",
      "metadata": {
        "id": "view-in-github",
        "colab_type": "text"
      },
      "source": [
        "<a href=\"https://colab.research.google.com/github/odairoos/odairoos/blob/main/testes25042022.ipynb\" target=\"_parent\"><img src=\"https://colab.research.google.com/assets/colab-badge.svg\" alt=\"Open In Colab\"/></a>"
      ]
    },
    {
      "cell_type": "code",
      "execution_count": 6,
      "metadata": {
        "colab": {
          "base_uri": "https://localhost:8080/"
        },
        "id": "r3kfufYtxSzY",
        "outputId": "5e0f59cb-a851-4ce3-8817-0d8b3ccca6b2"
      },
      "outputs": [
        {
          "output_type": "stream",
          "name": "stderr",
          "text": [
            "test_square (__main__.Test)\n",
            "Test Square ... /usr/local/lib/python3.7/dist-packages/ipykernel_launcher.py:8: DeprecationWarning: Please use assertEqual instead.\n",
            "  \n",
            "ok\n",
            "\n",
            "----------------------------------------------------------------------\n",
            "Ran 1 test in 0.004s\n",
            "\n",
            "OK\n"
          ]
        },
        {
          "output_type": "execute_result",
          "data": {
            "text/plain": [
              "<unittest.main.TestProgram at 0x7f950a497810>"
            ]
          },
          "metadata": {},
          "execution_count": 6
        }
      ],
      "source": [
        "import unittest\n",
        "def square(n):\n",
        "  return n*n\n",
        "\n",
        "class Test(unittest.TestCase):\n",
        "  def test_square(self):\n",
        "    '''Test Square'''\n",
        "    self.assertEquals(square(2),4)\n",
        "\n",
        "unittest.main(argv=[''], verbosity=2, exit=False)"
      ]
    },
    {
      "cell_type": "code",
      "source": [
        "import unittest\n",
        "\n",
        "def square(n):\n",
        "  return n*n\n",
        "\n",
        "def cube(n):\n",
        "  return n*n*n\n",
        "\n",
        "class Test(unittest.TestCase):\n",
        "  def test_square(self):\n",
        "    '''Test Square'''\n",
        "    self.assertEquals(square(2),4)\n",
        "\n",
        "class Test(unittest.TestCase):\n",
        "  def test_cube(self):\n",
        "    '''Test Cube'''\n",
        "    self.assertEquals(cube(),8)\n",
        "\n",
        "unittest.main(argv=[''], verbosity=2, exit=False)\n",
        "\n"
      ],
      "metadata": {
        "colab": {
          "base_uri": "https://localhost:8080/"
        },
        "id": "ScFXwQpVzazE",
        "outputId": "18fc06de-8af9-4ab1-ac53-f13430d4cae2"
      },
      "execution_count": 13,
      "outputs": [
        {
          "output_type": "stream",
          "name": "stderr",
          "text": [
            "test_cube (__main__.Test)\n",
            "Test Cube ... ERROR\n",
            "\n",
            "======================================================================\n",
            "ERROR: test_cube (__main__.Test)\n",
            "Test Cube\n",
            "----------------------------------------------------------------------\n",
            "Traceback (most recent call last):\n",
            "  File \"<ipython-input-13-1318a5feeb56>\", line 17, in test_cube\n",
            "    self.assertEquals(cube(),8)\n",
            "TypeError: cube() missing 1 required positional argument: 'n'\n",
            "\n",
            "----------------------------------------------------------------------\n",
            "Ran 1 test in 0.002s\n",
            "\n",
            "FAILED (errors=1)\n"
          ]
        },
        {
          "output_type": "execute_result",
          "data": {
            "text/plain": [
              "<unittest.main.TestProgram at 0x7f950a3e99d0>"
            ]
          },
          "metadata": {},
          "execution_count": 13
        }
      ]
    },
    {
      "cell_type": "code",
      "source": [
        "%%file test_file.py\n",
        "\n",
        "import pytest\n",
        "\n",
        "def test_square():\n",
        "  n = 2\n",
        "  assert n * n  == 4\n",
        "\n",
        "\n",
        "def test_cube():\n",
        "  n = 2 \n",
        "  assert n * n * n == 16\n"
      ],
      "metadata": {
        "colab": {
          "base_uri": "https://localhost:8080/"
        },
        "id": "qbwvzLnL2Yp1",
        "outputId": "cb5e81fa-8ab5-4e2b-c5a6-880761d75634"
      },
      "execution_count": 25,
      "outputs": [
        {
          "output_type": "stream",
          "name": "stdout",
          "text": [
            "Overwriting test_file.py\n"
          ]
        }
      ]
    },
    {
      "cell_type": "markdown",
      "source": [
        "# Nova seção"
      ],
      "metadata": {
        "id": "AtiH9T5W3118"
      }
    },
    {
      "cell_type": "markdown",
      "source": [
        "# Nova seção"
      ],
      "metadata": {
        "id": "wODk4T8432Y7"
      }
    },
    {
      "cell_type": "code",
      "source": [
        "!python -m pytest test_file.py"
      ],
      "metadata": {
        "colab": {
          "base_uri": "https://localhost:8080/"
        },
        "id": "0DQdle5N4Ear",
        "outputId": "d79186c9-d94f-4416-b6bc-9cf944752e52"
      },
      "execution_count": 26,
      "outputs": [
        {
          "output_type": "stream",
          "name": "stdout",
          "text": [
            "\u001b[1m============================= test session starts ==============================\u001b[0m\n",
            "platform linux -- Python 3.7.13, pytest-3.6.4, py-1.11.0, pluggy-0.7.1\n",
            "rootdir: /content, inifile:\n",
            "plugins: typeguard-2.7.1\n",
            "\u001b[1m\rcollecting 0 items                                                             \u001b[0m\u001b[1m\rcollecting 2 items                                                             \u001b[0m\u001b[1m\rcollected 2 items                                                              \u001b[0m\n",
            "\n",
            "test_file.py .F\u001b[36m                                                          [100%]\u001b[0m\n",
            "\n",
            "=================================== FAILURES ===================================\n",
            "\u001b[31m\u001b[1m__________________________________ test_cube ___________________________________\u001b[0m\n",
            "\n",
            "\u001b[1m    def test_cube():\u001b[0m\n",
            "\u001b[1m      n = 2\u001b[0m\n",
            "\u001b[1m>     assert n * n * n == 16\u001b[0m\n",
            "\u001b[1m\u001b[31mE     assert ((2 * 2) * 2) == 16\u001b[0m\n",
            "\n",
            "\u001b[1m\u001b[31mtest_file.py\u001b[0m:11: AssertionError\n",
            "\u001b[31m\u001b[1m====================== 1 failed, 1 passed in 0.04 seconds ======================\u001b[0m\n"
          ]
        }
      ]
    },
    {
      "cell_type": "code",
      "source": [
        "import sys\n",
        "import math\n",
        "sys.maxsize\n",
        "\n",
        "math.log(sys.maxsize)\n"
      ],
      "metadata": {
        "colab": {
          "base_uri": "https://localhost:8080/"
        },
        "id": "mEOKl-BO5rWi",
        "outputId": "93e3b9f8-83cb-441c-e628-ed6326c621cb"
      },
      "execution_count": 31,
      "outputs": [
        {
          "output_type": "execute_result",
          "data": {
            "text/plain": [
              "43.66827237527655"
            ]
          },
          "metadata": {},
          "execution_count": 31
        }
      ]
    }
  ]
}